{
  "cells": [
    {
      "cell_type": "markdown",
      "metadata": {
        "id": "neqW7Ht7vSmw"
      },
      "source": [
        "# Partie I: **Description des Donnees**"
      ]
    },
    {
      "cell_type": "code",
      "execution_count": null,
      "metadata": {
        "id": "lgl2YMJXvLt6"
      },
      "outputs": [],
      "source": [
        "#Installation du package Kaggle afin d'importation depuis ce dernier\n",
        "! pip install -q kaggle"
      ]
    },
    {
      "cell_type": "code",
      "execution_count": null,
      "metadata": {
        "colab": {
          "base_uri": "https://localhost:8080/"
        },
        "id": "xaIspMrJxhyn",
        "outputId": "492d67bc-4336-4bf6-b4dc-4cf99b81c0ff"
      },
      "outputs": [
        {
          "name": "stdout",
          "output_type": "stream",
          "text": [
            "mkdir: cannot create directory ‘/root/.kaggle/’: File exists\n"
          ]
        }
      ],
      "source": [
        "#creation de dossier kaggle servant a la config\n",
        "! mkdir ~/.kaggle/"
      ]
    },
    {
      "cell_type": "code",
      "execution_count": null,
      "metadata": {
        "id": "PXczl41Ez2gT"
      },
      "outputs": [],
      "source": [
        "#Insertion des data Kaggle dans le dossier kaggle de config\n",
        "! cp '/content/drive/MyDrive/Kaggle_db/kaggle.json' ~/.kaggle/"
      ]
    },
    {
      "cell_type": "code",
      "execution_count": null,
      "metadata": {
        "id": "65sFzjjj1K4s"
      },
      "outputs": [],
      "source": [
        "! #kaggle datasets list"
      ]
    },
    {
      "cell_type": "code",
      "execution_count": null,
      "metadata": {
        "id": "TZ4p1IWG1gGS"
      },
      "outputs": [],
      "source": [
        "# Accord des droits du fichier\n",
        "! chmod 600 ~/.kaggle/"
      ]
    },
    {
      "cell_type": "code",
      "execution_count": null,
      "metadata": {
        "colab": {
          "base_uri": "https://localhost:8080/"
        },
        "id": "-Giy4IEu03Vs",
        "outputId": "4fada7fe-d622-431a-9b47-c4896e1a6eb1"
      },
      "outputs": [
        {
          "name": "stdout",
          "output_type": "stream",
          "text": [
            "kdd-cup-1999-data.zip: Skipping, found more recently modified local copy (use --force to force download)\n"
          ]
        }
      ],
      "source": [
        "# Telechargement de la base KDD CUP 99 depuis kaggle\n",
        "! kaggle datasets download -d galaxyh/kdd-cup-1999-data"
      ]
    },
    {
      "cell_type": "code",
      "execution_count": null,
      "metadata": {
        "colab": {
          "base_uri": "https://localhost:8080/"
        },
        "id": "Ei3WXIQq5i6a",
        "outputId": "feefcdc7-8596-47d9-ab26-26dace1054e0"
      },
      "outputs": [
        {
          "name": "stdout",
          "output_type": "stream",
          "text": [
            "unzip:  cannot find or open /content/sample_data/kdd-cup-1999-data.zip, /content/sample_data/kdd-cup-1999-data.zip.zip or /content/sample_data/kdd-cup-1999-data.zip.ZIP.\n"
          ]
        }
      ],
      "source": [
        "#Dezipper le dossier de la db\n",
        "! unzip /content/sample_data/kdd-cup-1999-data.zip -d kdd99_db"
      ]
    },
    {
      "cell_type": "code",
      "execution_count": null,
      "metadata": {
        "id": "O27qaodOzEkS"
      },
      "outputs": [],
      "source": [
        "# Reading Data\n",
        "import os\n",
        "import pandas as pd\n",
        "import numpy as np # linear algebra\n",
        "import matplotlib.pyplot as plt\n",
        "import plotly.graph_objects as go\n",
        "import seaborn as sns\n",
        "\n",
        "## import columns names\n",
        "\n",
        "feature=[\"duration\", \"protocol_type\", \"service\", \"flag\", \"src_bytes\", \"dst_bytes\", \"land\", \n",
        "         \"wrong_fragment\", \"urgent\", \"hot\", \"num_failed_logins\", \"logged_in\", \"lnum_compromised\", \n",
        "         \"lroot_shell\", \"lsu_attempted\", \"lnum_root\", \"lnum_file_creations\", \"lnum_shells\", \n",
        "         \"lnum_access_files\", \"lnum_outbound_cmds\", \"is_host_login\", \"is_guest_login\", \"count\", \"srv_count\", \n",
        "         \"serror_rate\", \"srv_serror_rate\", \"rerror_rate\", \"srv_rerror_rate\", \"same_srv_rate\", \"diff_srv_rate\", \n",
        "         \"srv_diff_host_rate\", \"dst_host_count\", \"dst_host_srv_count\", \"dst_host_same_srv_rate\", \"dst_host_diff_srv_rate\", \n",
        "         \"dst_host_same_src_port_rate\", \"dst_host_srv_diff_host_rate\", \"dst_host_serror_rate\", \"dst_host_srv_serror_rate\", \n",
        "         \"dst_host_rerror_rate\", \"dst_host_srv_rerror_rate\", \"label\", \"difficulty\"]"
      ]
    },
    {
      "cell_type": "code",
      "execution_count": null,
      "metadata": {
        "id": "UhhUujFa1BIO"
      },
      "outputs": [],
      "source": [
        "# Manipulation de la db Test\n",
        "# Import 10% KDDCup99\n",
        "dbTest = pd.read_csv('/content/drive/MyDrive/Kaggle_db/from_PC/kddcup99_csv.csv', low_memory= False, sep=',')\n",
        "\n",
        "#Import NSL-KDD dataset\n",
        "dbTrain = pd.read_csv('/content/drive/MyDrive/Kaggle_db/from_PC/NSL_KDDTrain.txt', delimiter =',', names=feature)\n",
        "dbTst1 = pd.read_csv('/content/drive/MyDrive/Kaggle_db/from_PC/NSL_KDDTest.txt', names=feature)\n",
        "dbTst2 = pd.read_csv('/content/drive/MyDrive/Kaggle_db/from_PC/NSL_KDDTest-21.txt', names=feature)\n",
        "\n",
        "data_nsl = pd.concat([dbTrain, dbTst1, dbTst2], ignore_index=True)\n",
        "data_nsl.drop(['difficulty'],axis=1,inplace=True)   #delete attribut difficulty before fusion\n",
        "\n",
        "my_all_data = pd.concat([dbTest, data_nsl], ignore_index=True)\n",
        "\n",
        "#dbTest.info()"
      ]
    },
    {
      "cell_type": "code",
      "execution_count": null,
      "metadata": {
        "colab": {
          "base_uri": "https://localhost:8080/"
        },
        "id": "S3ICipq8neGf",
        "outputId": "e8f2bde9-e63a-4524-ec8a-dfa48702ff28"
      },
      "outputs": [
        {
          "data": {
            "text/plain": [
              "((494020, 42), (160367, 42), (654387, 42))"
            ]
          },
          "execution_count": 45,
          "metadata": {},
          "output_type": "execute_result"
        }
      ],
      "source": [
        "# Suppression des doubons s'il en existe\n",
        "\n",
        "my_all_data.drop_duplicates()\n",
        "dbTest.shape, data_nsl.shape, my_all_data.shape"
      ]
    },
    {
      "cell_type": "code",
      "execution_count": null,
      "metadata": {
        "id": "KUSREIfJMkQl"
      },
      "outputs": [],
      "source": [
        "#Visualisation\n",
        "## definition de fonction de construction de graphique\n",
        "def bar_graph(table, feature):\n",
        "    table[feature].value_counts().plot(kind=\"bar\")"
      ]
    },
    {
      "cell_type": "code",
      "execution_count": null,
      "metadata": {
        "colab": {
          "base_uri": "https://localhost:8080/",
          "height": 54
        },
        "id": "P6A4BBAbde3N",
        "outputId": "9dc8c550-b2fa-46e2-a0d6-bb26735d6cf9"
      },
      "outputs": [
        {
          "data": {
            "image/png": "[encoded data removed]",
            "text/plain": [
              "<Figure size 432x288 with 1 Axes>"
            ]
          },
          "metadata": {
            "needs_background": "light"
          },
          "output_type": "display_data"
        }
      ],
      "source": [
        "bar_graph(my_all_data, 'label')\n",
        "\n",
        "#dbTest['label'].value_counts()"
      ]
    },
    {
      "cell_type": "code",
      "execution_count": null,
      "metadata": {
        "id": "LX7wqeRLhsqw"
      },
      "outputs": [],
      "source": [
        "# Regroupement d'attaques en 4 type\n",
        "attacks_types = {\n",
        "  'back'         : 'dos',\n",
        "  'land'         : 'dos',\n",
        "  'neptune'      : 'dos',\n",
        "  'pod'          : 'dos',\n",
        "  'smurf'        : 'dos',\n",
        "  'teardrop'     : 'dos',\n",
        "  'apache2'      : 'dos',\n",
        "  'mailbomb'     : 'dos',\n",
        "  'processtable' : 'dos',\n",
        "  'udpstorm'     : 'dos',\n",
        "  'worm'         : 'dos',\n",
        "  'normal'       : 'normal',\n",
        "  'ipsweep'      : 'probe',\n",
        "  'nmap'         : 'probe',\n",
        "  'portsweep'    : 'probe',\n",
        "  'satan'        : 'probe',\n",
        "  'mscan'        : 'probe',\n",
        "  'saint'        : 'probe',\n",
        "  'ftp_write'    : 'r2l',\n",
        "  'guess_passwd' : 'r2l',\n",
        "  'imap'         : 'r2l',\n",
        "  'multihop'     : 'r2l',\n",
        "  'phf'          : 'r2l',\n",
        "  'spy'          : 'r2l',\n",
        "  'warezclient'  : 'r2l',\n",
        "  'warezmaster'  : 'r2l',\n",
        "  'httptunnel'   : 'r2l',\n",
        "  'named'        : 'r2l',\n",
        "  'sendmail'     : 'r2l',\n",
        "  'snmpgetattack': 'r2l',\n",
        "  'snmpguess'    : 'r2l',\n",
        "  'xlock'        : 'r2l',\n",
        "  'xsnoop'       : 'r2l',\n",
        "  'buffer_overflow' : 'u2r',\n",
        "  'loadmodule'   : 'u2r',\n",
        "  'perl'         : 'u2r',\n",
        "  'rootkit'      : 'u2r',\n",
        "  'ps'           : 'u2r',\n",
        "  'sqlattack'    : 'u2r',\n",
        "  'xterm'        : 'u2r',\n",
        "}"
      ]
    },
    {
      "cell_type": "code",
      "execution_count": null,
      "metadata": {
        "colab": {
          "base_uri": "https://localhost:8080/"
        },
        "id": "ynoEdGKri2UV",
        "outputId": "621d79e4-d913-4b73-9683-50b48231d21d"
      },
      "outputs": [
        {
          "data": {
            "text/plain": [
              "(654387, 43)"
            ]
          },
          "execution_count": 49,
          "metadata": {},
          "output_type": "execute_result"
        }
      ],
      "source": [
        "# Ajout d'une variable 'type d'attaques' pour faciliter la labellisation\n",
        "\n",
        "dbTest['Attack_Type'] = dbTest.label.apply(lambda key:attacks_types[key], attacks_types.values())\n",
        "data_nsl['Attack_Type'] = data_nsl.label.apply(lambda key:attacks_types[key], attacks_types.values())\n",
        "my_all_data['Attack_Type'] = my_all_data.label.apply(lambda key:attacks_types[key], attacks_types.values())\n",
        "#my_all_data['Attack_Type'].value_counts()\n",
        "my_all_data.shape"
      ]
    },
    {
      "cell_type": "code",
      "execution_count": null,
      "metadata": {
        "colab": {
          "base_uri": "https://localhost:8080/",
          "height": 54
        },
        "id": "5l1zwTQFllLX",
        "outputId": "e61b7c49-d11b-42b1-a6ef-4ea0b6f7c4ad"
      },
      "outputs": [
        {
          "data": {
            "image/png": "[encoded data removed]",
            "text/plain": [
              "<Figure size 432x288 with 1 Axes>"
            ]
          },
          "metadata": {
            "needs_background": "light"
          },
          "output_type": "display_data"
        }
      ],
      "source": [
        "bar_graph(my_all_data, 'Attack_Type')"
      ]
    },
    {
      "cell_type": "markdown",
      "metadata": {
        "id": "-OFDB6_GoJdd"
      },
      "source": [
        "# Partie II : **Correlation entre les variables**"
      ]
    },
    {
      "cell_type": "code",
      "execution_count": null,
      "metadata": {
        "colab": {
          "base_uri": "https://localhost:8080/",
          "height": 836
        },
        "id": "O1wE9UMvoUrr",
        "outputId": "bcbefe5f-883f-452d-de95-85818e5decc7"
      },
      "outputs": [
        {
          "name": "stderr",
          "output_type": "stream",
          "text": [
            "<ipython-input-51-e8d5d2c0e0fd>:2: FutureWarning: In a future version of pandas all arguments of DataFrame.dropna will be keyword-only\n",
            "  data_nsl = data_nsl.dropna('columns')\n",
            "<ipython-input-51-e8d5d2c0e0fd>:3: FutureWarning: In a future version of pandas all arguments of DataFrame.dropna will be keyword-only\n",
            "  dbTest = dbTest.dropna('columns')\n",
            "<ipython-input-51-e8d5d2c0e0fd>:4: FutureWarning: In a future version of pandas all arguments of DataFrame.dropna will be keyword-only\n",
            "  my_all_data = my_all_data.dropna('columns')\n"
          ]
        },
        {
          "data": {
            "image/png": "[encoded data removed]",
            "text/plain": [
              "<Figure size 864x720 with 2 Axes>"
            ]
          },
          "metadata": {
            "needs_background": "light"
          },
          "output_type": "display_data"
        }
      ],
      "source": [
        "# drop columns with NaN\n",
        "data_nsl = data_nsl.dropna('columns')\n",
        "dbTest = dbTest.dropna('columns')\n",
        "my_all_data = my_all_data.dropna('columns')\n",
        "\n",
        "data_nsl = data_nsl[[col for col in data_nsl if data_nsl[col].nunique() > 1]]# keep columns where there are more than 1 unique values\n",
        "dbTest = dbTest[[col for col in dbTest if dbTest[col].nunique() > 1]]# keep columns where there are more than 1 unique values\n",
        "my_all_data = my_all_data[[col for col in my_all_data if my_all_data[col].nunique() > 1]]# keep columns where there are more than 1 unique values\n",
        "\n",
        "corr = dbTest.corr()\n",
        "\n",
        "corr_matrix = plt.figure(figsize=(12,10))\n",
        "\n",
        "sns.heatmap(corr)\n",
        "corr_matrix.savefig('marice_correlation_curve.jpg', bbox_inches='tight', dpi=150)\n",
        "\n",
        "plt.show()"
      ]
    },
    {
      "cell_type": "code",
      "execution_count": null,
      "metadata": {
        "id": "3ZhS1pds2aSG"
      },
      "outputs": [],
      "source": [
        "                    #my_all_data\n",
        "#This variable is highly correlated with num_compromised and should be ignored for analysis.\n",
        "#(Correlation = 0.9938277978738366)\n",
        "my_all_data.drop('lnum_root',axis = 1,inplace = True)\n",
        "\n",
        "#This variable is highly correlated with hot and should be ignored for analysis.\n",
        "my_all_data.drop('is_guest_login',axis = 1,inplace = True)\n",
        "\n",
        "#This variable is highly correlated with serror_rate and should be ignored for analysis.\n",
        "#(Correlation = 0.9983615072725952)\n",
        "my_all_data.drop('srv_serror_rate',axis = 1,inplace = True)\n",
        "\n",
        "#This variable is highly correlated with count & srv_count and should be ignored for analysis.\n",
        "my_all_data.drop('dst_host_same_src_port_rate',axis = 1,inplace = True)\n",
        "\n",
        "#This variable is highly correlated with rerror_rate and should be ignored for analysis.\n",
        "#(Correlation = 0.9947309539817937)\n",
        "my_all_data.drop('srv_rerror_rate',axis = 1, inplace=True)\n",
        "\n",
        "#This variable is highly correlated with srv_serror_rate and should be ignored for analysis.\n",
        "#(Correlation = 0.9993041091850098)\n",
        "my_all_data.drop('dst_host_srv_serror_rate',axis = 1, inplace=True)\n",
        "\n",
        "#This variable is highly correlated with rerror_rate and should be ignored for analysis.\n",
        "#(Correlation = 0.9869947924956001)\n",
        "my_all_data.drop('dst_host_serror_rate',axis = 1, inplace=True)\n",
        "\n",
        "#This variable is highly correlated with srv_rerror_rate and should be ignored for analysis.\n",
        "#(Correlation = 0.9821663427308375)\n",
        "my_all_data.drop('dst_host_rerror_rate',axis = 1, inplace=True)\n",
        "\n",
        "#This variable is highly correlated with same_srv_rate and should be ignored for analysis.\n",
        "my_all_data.drop('dst_host_srv_count',axis = 1, inplace=True)\n",
        "\n",
        "#This variable is highly correlated with rerror_rate and should be ignored for analysis.\n",
        "#(Correlation = 0.9851995540751249)\n",
        "my_all_data.drop('dst_host_srv_rerror_rate',axis = 1, inplace=True)\n",
        "\n",
        "#This variable is highly correlated with dst_host_srv_count and should be ignored for analysis.\n",
        "#(Correlation = 0.9736854572953938)\n",
        "my_all_data.drop('dst_host_same_srv_rate',axis = 1, inplace=True)"
      ]
    },
    {
      "cell_type": "code",
      "execution_count": null,
      "metadata": {
        "id": "StIT_Qz5qBdZ"
      },
      "outputs": [],
      "source": [
        "#Finding categorical features\n",
        "def find_features_cat(table):\n",
        "  num_cols = table._get_numeric_data().columns\n",
        "\n",
        "  cate_cols = list(set(table.columns)-set(num_cols))\n",
        "  cate_cols.remove('label')\n",
        "  cate_cols.remove('Attack_Type')\n",
        "\n",
        "  cate_cols\n",
        "  print(cate_cols)"
      ]
    },
    {
      "cell_type": "code",
      "execution_count": null,
      "metadata": {
        "colab": {
          "base_uri": "https://localhost:8080/"
        },
        "id": "vJfY19X4sECW",
        "outputId": "8865093c-5923-40e4-8d8f-e2e3c15938f4"
      },
      "outputs": [
        {
          "data": {
            "text/plain": [
              "(icmp    283602\n",
              " tcp     190064\n",
              " udp      20354\n",
              " Name: protocol_type, dtype: int64, SF        378439\n",
              " S0         87007\n",
              " REJ        26875\n",
              " RSTR         903\n",
              " RSTO         579\n",
              " SH           107\n",
              " S1            57\n",
              " S2            24\n",
              " RSTOS0        11\n",
              " S3            10\n",
              " OTH            8\n",
              " Name: flag, dtype: int64, ecr_i      281400\n",
              " private    110893\n",
              " http        64292\n",
              " smtp         9723\n",
              " other        7237\n",
              "             ...  \n",
              " X11            11\n",
              " tim_i           7\n",
              " pm_dump         1\n",
              " tftp_u          1\n",
              " red_i           1\n",
              " Name: service, Length: 66, dtype: int64)"
            ]
          },
          "execution_count": 56,
          "metadata": {},
          "output_type": "execute_result"
        }
      ],
      "source": [
        "# Affichages des modalites des ces variables qualitatives\n",
        "dbTest['protocol_type'].value_counts(), dbTest['flag'].value_counts(), dbTest['service'].value_counts()"
      ]
    },
    {
      "cell_type": "markdown",
      "metadata": {
        "id": "GV9yHSVLrGTg"
      },
      "source": [
        "**Codification des modalites quali en quanti pour les 3 variables ci-dessus afin de preparer la modelisation**"
      ]
    },
    {
      "cell_type": "code",
      "execution_count": null,
      "metadata": {
        "id": "1K3zaV07J6BJ"
      },
      "outputs": [],
      "source": [
        "#protocol_type feature mapping\n",
        "pmap = {'icmp':0,'tcp':1,'udp':2}\n",
        "data_nsl['protocol_type'] = data_nsl['protocol_type'].map(pmap)\n",
        "dbTest['protocol_type'] = dbTest['protocol_type'].map(pmap)\n",
        "my_all_data['protocol_type'] = my_all_data['protocol_type'].map(pmap)"
      ]
    },
    {
      "cell_type": "code",
      "execution_count": null,
      "metadata": {
        "id": "zcnZpyeYrOKK"
      },
      "outputs": [],
      "source": [
        "#flag feature mapping\n",
        "fmap = {'SF':0,'S0':1,'REJ':2,'RSTR':3,'RSTO':4,'SH':5 ,'S1':6 ,'S2':7,'RSTOS0':8,'S3':9 ,'OTH':10}\n",
        "data_nsl['flag'] = data_nsl['flag'].map(fmap)\n",
        "dbTest['flag'] = dbTest['flag'].map(fmap)\n",
        "my_all_data['flag'] = my_all_data['flag'].map(fmap)"
      ]
    },
    {
      "cell_type": "code",
      "execution_count": null,
      "metadata": {
        "id": "kOjKD9NzrXKH"
      },
      "outputs": [],
      "source": [
        "# Suppression de la variable Service (Trop de modalites a codifier)\n",
        "data_nsl.drop('service',axis = 1,inplace= True)\n",
        "dbTest.drop('service',axis = 1,inplace= True)\n",
        "my_all_data.drop('service',axis = 1,inplace= True)"
      ]
    },
    {
      "cell_type": "code",
      "execution_count": null,
      "metadata": {
        "id": "VrXNt6Jwth4N"
      },
      "outputs": [],
      "source": [
        "# Consulter les types restant dans la base\n",
        "#dbTest.dtypes"
      ]
    },
    {
      "cell_type": "markdown",
      "metadata": {
        "id": "5J3l7n3fvmg4"
      },
      "source": [
        "# Partie III: **Modelisation des Donnees**"
      ]
    },
    {
      "cell_type": "code",
      "execution_count": null,
      "metadata": {
        "id": "qN50mCPYvsyA"
      },
      "outputs": [],
      "source": [
        "from sklearn.model_selection import train_test_split\n",
        "from sklearn import preprocessing\n",
        "from sklearn.preprocessing import MinMaxScaler, StandardScaler #Transformation des matrice\n",
        "from sklearn.metrics import accuracy_score, f1_score\n",
        "\n",
        "# Pour Implementer le NB\n",
        "from sklearn.naive_bayes import GaussianNB\n",
        "\n",
        "# Pour Implementer l'arbre de Decision\n",
        "from sklearn.tree import DecisionTreeClassifier\n",
        "\n",
        "# Random Forest\n",
        "from sklearn.ensemble import RandomForestClassifier\n",
        "\n",
        "# Regression Logistique\n",
        "from sklearn.linear_model import LogisticRegression\n",
        "\n",
        "# KNN\n",
        "from sklearn.neighbors import KNeighborsClassifier\n",
        "\n",
        "# ANN\n",
        "from keras.models import Sequential\n",
        "from keras.layers import Dense, Embedding, Bidirectional\n",
        "from keras.wrappers.scikit_learn import KerasClassifier\n",
        "from keras.preprocessing.image import ImageDataGenerator\n",
        "\n",
        "# LSTM\n",
        "from keras.layers import LSTM, Dense, Dropout\n",
        "from sklearn.metrics import mean_squared_error\n",
        "\n",
        "# CNN\n",
        "from sklearn.preprocessing import LabelEncoder\n",
        "import tensorflow as tf\n",
        "from tensorflow import keras\n",
        "from tensorflow.keras.optimizers import Adam\n",
        "from tensorflow.keras.layers import Conv1D, MaxPool1D, Flatten, Dense, BatchNormalization, Dropout\n",
        "from tensorflow.keras.callbacks import EarlyStopping\n",
        "\n",
        "# MLP\n",
        "from sklearn.neural_network import MLPClassifier\n",
        "\n",
        "# SVM\n",
        "from sklearn.svm import SVC\n",
        "\n",
        "from sklearn import metrics\n",
        "from sklearn.metrics import classification_report, roc_auc_score # Pour la table de classification\n",
        "from sklearn.model_selection import train_test_split, learning_curve, StratifiedKFold, cross_val_score\n",
        "import joblib # for save models\n",
        "import time"
      ]
    },
    {
      "cell_type": "code",
      "execution_count": null,
      "metadata": {
        "id": "903w_sfUxKYf"
      },
      "outputs": [],
      "source": [
        "# Firt Hyperparametre\n",
        "  # label variable and train set\n",
        "def func_split_db(table) :\n",
        "  db_quant = table.drop(['label',], axis=1)\n",
        "\n",
        "  Y = db_quant['Attack_Type']\n",
        "  X = db_quant.drop(['Attack_Type',], axis=1)\n",
        "\n",
        "  sc = MinMaxScaler(feature_range=(0, 1))\n",
        "  X = sc.fit_transform(X)\n",
        "\n",
        "  # Split test and train data \n",
        "  X_train, X_test, Y_train, Y_test = train_test_split(X, Y, test_size=0.30, random_state=42)\n",
        "  print(X_train.shape, X_test.shape)\n",
        "  print(Y_train.shape, Y_test.shape)"
      ]
    },
    {
      "cell_type": "code",
      "execution_count": null,
      "metadata": {
        "colab": {
          "base_uri": "https://localhost:8080/"
        },
        "id": "rfBEsIKbL3cy",
        "outputId": "0952bf77-e355-4648-902e-3230d5a0aeef"
      },
      "outputs": [
        {
          "name": "stdout",
          "output_type": "stream",
          "text": [
            "(458070, 28) (196317, 28)\n",
            "(458070,) (196317,)\n"
          ]
        }
      ],
      "source": [
        "#func_split_db(data_nsl)\n",
        "func_split_db(my_all_data)\n",
        "#func_split_db(my_all_data)"
      ]
    },
    {
      "cell_type": "code",
      "execution_count": null,
      "metadata": {
        "id": "4PeuImbdOnX8"
      },
      "outputs": [],
      "source": [
        "# data augmentation\n",
        "datagen = ImageDataGenerator(\n",
        "        featurewise_center=False,  # set input mean to 0 over the dataset\n",
        "        samplewise_center=False,  # set each sample mean to 0\n",
        "        featurewise_std_normalization=False,  # divide inputs by std of the dataset\n",
        "        samplewise_std_normalization=False,  # divide each input by its std\n",
        "        zca_whitening=False,  # dimesion reduction\n",
        "        rotation_range=1,  # randomly rotate images in the range 5 degrees\n",
        "        zoom_range = 0.1, # Randomly zoom image 10%\n",
        "        width_shift_range=0.1,  # randomly shift images horizontally 10%\n",
        "        height_shift_range=0.1,  # randomly shift images vertically 10%\n",
        "        horizontal_flip=False,  # randomly flip images\n",
        "        vertical_flip=False)"
      ]
    },
    {
      "cell_type": "code",
      "execution_count": null,
      "metadata": {
        "id": "vsWNvDJ8k8gC"
      },
      "outputs": [],
      "source": [
        "db_head = ['dos','normal', 'probe','r2l','u2']\n",
        "\n",
        "def construct_conf_matrix(feature):\n",
        "    conf_matrix = metrics.confusion_matrix(Y_test, feature, labels=None, sample_weight=None, normalize='true')\n",
        "    cm_display = metrics.ConfusionMatrixDisplay(conf_matrix, display_labels = db_head)\n",
        "\n",
        "    fig, ax = plt.subplots(figsize=(7,8))\n",
        "    ax.grid(False)\n",
        "    cm_display.plot(ax=ax)"
      ]
    },
    {
      "cell_type": "code",
      "execution_count": null,
      "metadata": {
        "id": "3EHoYNPGqq2P"
      },
      "outputs": [],
      "source": [
        "def evaluation_model(model, Y_pred):    \n",
        "    #print(construct_conf_matrix(Y_pred))\n",
        "    rapport = print(classification_report(Y_test, Y_pred))\n",
        "\n",
        "    N, train_score, val_score = learning_curve(model, X_train, Y_train, cv=4, scoring='accuracy', train_sizes=np.linspace(0.1, 1, 24))\n",
        "    \n",
        "    fig = plt.figure(figsize=(12, 8))\n",
        "    plt.plot(N, train_score.mean(axis=1), label='train score')\n",
        "    plt.plot(N, val_score.mean(axis=1), label='test score')\n",
        "    plt.legend()\n",
        "    model_name = type(model).__name__\n",
        "    fig.savefig(model_name + '_curve.jpg', bbox_inches='tight', dpi=150)\n",
        "    plt.show()"
      ]
    },
    {
      "cell_type": "code",
      "execution_count": null,
      "metadata": {
        "id": "XIoD0oJnLO_c"
      },
      "outputs": [],
      "source": [
        "epochs = 50  # for better result increase the epochs\n",
        "batch_size = 100\n",
        "def courbe_de_perte(model):\n",
        "    model.compile(optimizer='adam', loss='binary_crossentropy',metrics=['accuracy'])\n",
        "    history = model.fit_generator(datagen.flow(X_train,Y_train, batch_size=batch_size),\n",
        "                                  epochs = epochs, validation_data = (X_test,Y_test), steps_per_epoch=X_train.shape[0] // batch_size)\n",
        "    # Plot the loss and accuracy curves for training and validation \n",
        "    plt.plot(history.history['val_loss'], color='b', label=\"validation loss\")\n",
        "    plt.title(\"Test Loss\")\n",
        "    plt.xlabel(\"Number of Epochs\")\n",
        "    plt.ylabel(\"Loss\")\n",
        "    plt.legend()\n",
        "    plt.show()"
      ]
    },
    {
      "cell_type": "markdown",
      "metadata": {
        "id": "LjxBVpIXaoyI"
      },
      "source": [
        "# **Shallow Learning, Supervised Methods**"
      ]
    },
    {
      "cell_type": "markdown",
      "metadata": {
        "id": "SBnXNEJIDj8a"
      },
      "source": [
        "# 1. **Application NB**\n"
      ]
    },
    {
      "cell_type": "code",
      "execution_count": null,
      "metadata": {
        "id": "39rK4KeUDuZ1"
      },
      "outputs": [],
      "source": [
        "model_nb = GaussianNB()\n",
        "\n",
        "# Temps d'entrainement\n",
        "start_time = time.time()\n",
        "model_nb.fit(X_train, Y_train.values.ravel())\n",
        "end_time = time.time()\n",
        "\n",
        "#print(\"Training time: \",end_time-start_time)"
      ]
    },
    {
      "cell_type": "code",
      "execution_count": null,
      "metadata": {
        "id": "EL5Vau9j_eQC"
      },
      "outputs": [],
      "source": [
        "# save model\n",
        "fn_nb = \"naive_bayes.joblib\"\n",
        "#joblib.dump(model_nb, fn_nb)"
      ]
    },
    {
      "cell_type": "code",
      "execution_count": null,
      "metadata": {
        "id": "UlM3Aqg5_zmI"
      },
      "outputs": [],
      "source": [
        "# load model & curve\n",
        "loaded_model_nb = joblib.load('/content/drive/MyDrive/Save_models/'+ fn_nb)"
      ]
    },
    {
      "cell_type": "code",
      "execution_count": null,
      "metadata": {
        "id": "HPJdaHGsEWGj"
      },
      "outputs": [],
      "source": [
        "# Temps de Test\n",
        "start_time = time.time()\n",
        "Y_test_pred_nb = loaded_model_nb.predict(X_test)\n",
        "end_time = time.time()\n",
        "\n",
        "#print(\"Testing time: \",end_time-start_time)"
      ]
    },
    {
      "cell_type": "code",
      "execution_count": null,
      "metadata": {
        "colab": {
          "base_uri": "https://localhost:8080/"
        },
        "id": "-xLJOprpEaO4",
        "outputId": "f90e1ae7-d52d-4573-b21a-59069f27efd8"
      },
      "outputs": [
        {
          "name": "stdout",
          "output_type": "stream",
          "text": [
            "Train score is: 0.8783825987380499\n",
            "Test score is: 0.8790399848859021\n"
          ]
        }
      ],
      "source": [
        "# Score de NB\n",
        "nb_train_score = loaded_model_nb.score(X_train, Y_train)\n",
        "nb_test_score = loaded_model_nb.score(X_test,Y_test)\n",
        "\n",
        "print(\"Train score is:\", nb_train_score)\n",
        "print(\"Test score is:\", nb_test_score)"
      ]
    },
    {
      "cell_type": "code",
      "execution_count": null,
      "metadata": {
        "id": "NPXHUx6vlrdD"
      },
      "outputs": [],
      "source": [
        "# Taux d'erreur avec la Matrice de confusion\n",
        "#construct_conf_matrix(Y_test_pred_nb)"
      ]
    },
    {
      "cell_type": "code",
      "execution_count": null,
      "metadata": {
        "colab": {
          "background_save": true
        },
        "id": "GeLBl6xfVxAy",
        "outputId": "4838f546-2bcc-4012-daa1-601be757eb95"
      },
      "outputs": [
        {
          "name": "stdout",
          "output_type": "stream",
          "text": [
            "              precision    recall  f1-score   support\n",
            "\n",
            "         dos       0.98      0.94      0.96    117447\n",
            "      normal       0.97      0.64      0.77     29154\n",
            "       probe       0.09      0.99      0.17      1238\n",
            "         r2l       0.30      0.38      0.34       349\n",
            "         u2r       0.00      0.67      0.01        18\n",
            "\n",
            "    accuracy                           0.88    148206\n",
            "   macro avg       0.47      0.72      0.45    148206\n",
            "weighted avg       0.97      0.88      0.91    148206\n",
            "\n"
          ]
        },
        {
          "data": {
            "image/png": "[encoded data removed]",
            "text/plain": [
              "<Figure size 864x576 with 1 Axes>"
            ]
          },
          "metadata": {},
          "output_type": "display_data"
        }
      ],
      "source": [
        "evaluation_model(loaded_model_nb, Y_test_pred_nb)"
      ]
    },
    {
      "cell_type": "markdown",
      "metadata": {
        "id": "Jh9KFircExdo"
      },
      "source": [
        "# 2. **Application de l'Arbre de Decision**"
      ]
    },
    {
      "cell_type": "code",
      "execution_count": null,
      "metadata": {
        "id": "Z6nbKQPaE7Xa"
      },
      "outputs": [],
      "source": [
        "model_dt = DecisionTreeClassifier(criterion=\"entropy\", max_depth = 4)\n",
        "\n",
        "# Temps Training\n",
        "start_time = time.time()\n",
        "model_dt.fit(X_train, Y_train.values.ravel())\n",
        "end_time = time.time()\n",
        "\n",
        "#print(\"Training time: \",end_time-start_time)"
      ]
    },
    {
      "cell_type": "code",
      "execution_count": null,
      "metadata": {
        "colab": {
          "base_uri": "https://localhost:8080/"
        },
        "id": "UpFw96WSOKQ9",
        "outputId": "05ccfaae-c7a8-47da-f164-a1d76433167b"
      },
      "outputs": [
        {
          "data": {
            "text/plain": [
              "['decision_tree.joblib']"
            ]
          },
          "execution_count": 40,
          "metadata": {},
          "output_type": "execute_result"
        }
      ],
      "source": [
        "# save model\n",
        "fn_dt = \"decision_tree.joblib\"\n",
        "#joblib.dump(model_dt, fn_dt)"
      ]
    },
    {
      "cell_type": "code",
      "execution_count": null,
      "metadata": {
        "id": "h2-Adw72OaBv"
      },
      "outputs": [],
      "source": [
        "# load model & curve\n",
        "loaded_model_dt = joblib.load(fn_dt)"
      ]
    },
    {
      "cell_type": "code",
      "execution_count": null,
      "metadata": {
        "id": "Kz-vXpKHFbis"
      },
      "outputs": [],
      "source": [
        "# Temps de Test\n",
        "start_time = time.time()\n",
        "Y_test_pred_dt = loaded_model_dt.predict(X_test)\n",
        "end_time = time.time()\n",
        "\n",
        "#print(\"Testing time: \",end_time-start_time)"
      ]
    },
    {
      "cell_type": "code",
      "execution_count": null,
      "metadata": {
        "colab": {
          "base_uri": "https://localhost:8080/"
        },
        "id": "PeSwFQYEFd8a",
        "outputId": "03eddfc5-eff0-46a7-8fd2-e8b4f4f04397"
      },
      "outputs": [
        {
          "name": "stdout",
          "output_type": "stream",
          "text": [
            "Train score is: 0.990581642154453\n",
            "Test score is: 0.990526699323914\n"
          ]
        }
      ],
      "source": [
        "# Score de DT\n",
        "dt_train_score = loaded_model_dt.score(X_train, Y_train)\n",
        "dt_test_score = loaded_model_dt.score(X_test,Y_test)\n",
        "\n",
        "print(\"Train score is:\", dt_train_score)\n",
        "print(\"Test score is:\", dt_test_score)"
      ]
    },
    {
      "cell_type": "code",
      "execution_count": null,
      "metadata": {
        "id": "eHkYjsEzm6yM"
      },
      "outputs": [],
      "source": [
        "# Taux d'erreur avec la Matrice de confusion\n",
        "#construct_conf_matrix(Y_test_pred_dt)"
      ]
    },
    {
      "cell_type": "code",
      "execution_count": null,
      "metadata": {
        "colab": {
          "base_uri": "https://localhost:8080/",
          "height": 373
        },
        "id": "iuHBXNNXWGNT",
        "outputId": "34c932f7-0b8f-4e95-a8e0-6f4f39a9fd1c"
      },
      "outputs": [
        {
          "name": "stderr",
          "output_type": "stream",
          "text": [
            "/usr/local/lib/python3.7/dist-packages/sklearn/metrics/_classification.py:1318: UndefinedMetricWarning: Precision and F-score are ill-defined and being set to 0.0 in labels with no predicted samples. Use `zero_division` parameter to control this behavior.\n",
            "  _warn_prf(average, modifier, msg_start, len(result))\n",
            "/usr/local/lib/python3.7/dist-packages/sklearn/metrics/_classification.py:1318: UndefinedMetricWarning: Precision and F-score are ill-defined and being set to 0.0 in labels with no predicted samples. Use `zero_division` parameter to control this behavior.\n",
            "  _warn_prf(average, modifier, msg_start, len(result))\n",
            "/usr/local/lib/python3.7/dist-packages/sklearn/metrics/_classification.py:1318: UndefinedMetricWarning: Precision and F-score are ill-defined and being set to 0.0 in labels with no predicted samples. Use `zero_division` parameter to control this behavior.\n",
            "  _warn_prf(average, modifier, msg_start, len(result))\n"
          ]
        },
        {
          "name": "stdout",
          "output_type": "stream",
          "text": [
            "              precision    recall  f1-score   support\n",
            "\n",
            "         dos       1.00      1.00      1.00    117447\n",
            "      normal       0.98      0.98      0.98     29154\n",
            "       probe       0.56      0.88      0.68      1238\n",
            "         r2l       0.00      0.00      0.00       349\n",
            "         u2r       0.00      0.00      0.00        18\n",
            "\n",
            "    accuracy                           0.99    148206\n",
            "   macro avg       0.51      0.57      0.53    148206\n",
            "weighted avg       0.99      0.99      0.99    148206\n",
            "\n"
          ]
        },
        {
          "data": {
            "image/png": "[encoded data removed]",
            "text/plain": [
              "<Figure size 864x576 with 1 Axes>"
            ]
          },
          "metadata": {},
          "output_type": "display_data"
        }
      ],
      "source": [
        "evaluation_model(loaded_model_dt, Y_test_pred_dt)"
      ]
    },
    {
      "cell_type": "markdown",
      "metadata": {
        "id": "zeB_yo2NFzvq"
      },
      "source": [
        "# 3. **Application RANDOM FOREST**"
      ]
    },
    {
      "cell_type": "code",
      "execution_count": null,
      "metadata": {
        "colab": {
          "base_uri": "https://localhost:8080/",
          "height": 239
        },
        "id": "-pX9DZB2F6NU",
        "outputId": "fe2ff139-fff8-4f37-b159-c934aca3f2e5"
      },
      "outputs": [
        {
          "ename": "NameError",
          "evalue": "ignored",
          "output_type": "error",
          "traceback": [
            "\u001b[0;31m---------------------------------------------------------------------------\u001b[0m",
            "\u001b[0;31mNameError\u001b[0m                                 Traceback (most recent call last)",
            "\u001b[0;32m<ipython-input-69-94d5141e9ace>\u001b[0m in \u001b[0;36m<module>\u001b[0;34m\u001b[0m\n\u001b[1;32m      3\u001b[0m \u001b[0;31m# Temps de Training\u001b[0m\u001b[0;34m\u001b[0m\u001b[0;34m\u001b[0m\u001b[0;34m\u001b[0m\u001b[0m\n\u001b[1;32m      4\u001b[0m \u001b[0mstart_time\u001b[0m \u001b[0;34m=\u001b[0m \u001b[0mtime\u001b[0m\u001b[0;34m.\u001b[0m\u001b[0mtime\u001b[0m\u001b[0;34m(\u001b[0m\u001b[0;34m)\u001b[0m\u001b[0;34m\u001b[0m\u001b[0;34m\u001b[0m\u001b[0m\n\u001b[0;32m----> 5\u001b[0;31m \u001b[0mmodel_rf\u001b[0m\u001b[0;34m.\u001b[0m\u001b[0mfit\u001b[0m\u001b[0;34m(\u001b[0m\u001b[0mX_train\u001b[0m\u001b[0;34m,\u001b[0m \u001b[0mY_train\u001b[0m\u001b[0;34m.\u001b[0m\u001b[0mvalues\u001b[0m\u001b[0;34m.\u001b[0m\u001b[0mravel\u001b[0m\u001b[0;34m(\u001b[0m\u001b[0;34m)\u001b[0m\u001b[0;34m)\u001b[0m\u001b[0;34m\u001b[0m\u001b[0;34m\u001b[0m\u001b[0m\n\u001b[0m\u001b[1;32m      6\u001b[0m \u001b[0mend_time\u001b[0m \u001b[0;34m=\u001b[0m \u001b[0mtime\u001b[0m\u001b[0;34m.\u001b[0m\u001b[0mtime\u001b[0m\u001b[0;34m(\u001b[0m\u001b[0;34m)\u001b[0m\u001b[0;34m\u001b[0m\u001b[0;34m\u001b[0m\u001b[0m\n\u001b[1;32m      7\u001b[0m \u001b[0;34m\u001b[0m\u001b[0m\n",
            "\u001b[0;31mNameError\u001b[0m: name 'X_train' is not defined"
          ]
        }
      ],
      "source": [
        "model_rf = RandomForestClassifier(n_estimators=30)\n",
        "\n",
        "# Temps de Training\n",
        "start_time = time.time()\n",
        "model_rf.fit(X_train, Y_train.values.ravel())\n",
        "end_time = time.time()\n",
        "\n",
        "#print(\"Training time: \",end_time-start_time)"
      ]
    },
    {
      "cell_type": "code",
      "execution_count": null,
      "metadata": {
        "colab": {
          "base_uri": "https://localhost:8080/"
        },
        "id": "vhUeU-PvOtL4",
        "outputId": "46c96e81-6997-4adc-c5e2-016a222daa9f"
      },
      "outputs": [
        {
          "data": {
            "text/plain": [
              "['random_forest.joblib']"
            ]
          },
          "execution_count": 45,
          "metadata": {},
          "output_type": "execute_result"
        }
      ],
      "source": [
        "# save model\n",
        "fn_rf = \"random_forest.joblib\"\n",
        "#joblib.dump(model_rf, fn_rf)"
      ]
    },
    {
      "cell_type": "code",
      "execution_count": null,
      "metadata": {
        "id": "_BZ0JlMrO3pT"
      },
      "outputs": [],
      "source": [
        "# load model & curve\n",
        "loaded_model_rf = joblib.load(fn_rf)"
      ]
    },
    {
      "cell_type": "code",
      "execution_count": null,
      "metadata": {
        "id": "vpba9jZrGVX-"
      },
      "outputs": [],
      "source": [
        "# Temps de Test\n",
        "start_time = time.time()\n",
        "Y_test_pred_rf = loaded_model_rf.predict(X_test)\n",
        "end_time = time.time()\n",
        "\n",
        "#print(\"Testing time: \",end_time-start_time)"
      ]
    },
    {
      "cell_type": "code",
      "execution_count": null,
      "metadata": {
        "colab": {
          "base_uri": "https://localhost:8080/"
        },
        "id": "_gdW9XHNGXQP",
        "outputId": "6884f4c5-b505-4bc7-f837-3239ece6be47"
      },
      "outputs": [
        {
          "name": "stdout",
          "output_type": "stream",
          "text": [
            "Train score is: 0.9999826496324614\n",
            "Test score is: 0.9996288949165351\n"
          ]
        }
      ],
      "source": [
        "# Score de RF\n",
        "rf_train_score = loaded_model_rf.score(X_train, Y_train)\n",
        "rf_test_score = loaded_model_rf.score(X_test,Y_test)\n",
        "\n",
        "print(\"Train score is:\", rf_train_score)\n",
        "print(\"Test score is:\", rf_test_score)"
      ]
    },
    {
      "cell_type": "code",
      "execution_count": null,
      "metadata": {
        "id": "L2BB9034nDK3"
      },
      "outputs": [],
      "source": [
        "# Taux d'erreur avec la Matrice de confusion\n",
        "#construct_conf_matrix(Y_test_pred_rf)"
      ]
    },
    {
      "cell_type": "code",
      "execution_count": null,
      "metadata": {
        "colab": {
          "base_uri": "https://localhost:8080/",
          "height": 1000
        },
        "id": "ykw_ZkuzWMNG",
        "outputId": "3d52eab4-1f9b-4708-a208-bab4ae15ccfa"
      },
      "outputs": [
        {
          "name": "stdout",
          "output_type": "stream",
          "text": [
            "              precision    recall  f1-score   support\n",
            "\n",
            "         dos       1.00      1.00      1.00    117447\n",
            "      normal       1.00      1.00      1.00     29154\n",
            "       probe       0.99      0.99      0.99      1238\n",
            "         r2l       0.99      0.95      0.97       349\n",
            "         u2r       0.93      0.72      0.81        18\n",
            "\n",
            "    accuracy                           1.00    148206\n",
            "   macro avg       0.98      0.93      0.95    148206\n",
            "weighted avg       1.00      1.00      1.00    148206\n",
            "\n"
          ]
        },
        {
          "name": "stderr",
          "output_type": "stream",
          "text": [
            "/usr/local/lib/python3.7/dist-packages/sklearn/model_selection/_validation.py:680: DataConversionWarning: A column-vector y was passed when a 1d array was expected. Please change the shape of y to (n_samples,), for example using ravel().\n",
            "  estimator.fit(X_train, y_train, **fit_params)\n",
            "/usr/local/lib/python3.7/dist-packages/sklearn/model_selection/_validation.py:680: DataConversionWarning: A column-vector y was passed when a 1d array was expected. Please change the shape of y to (n_samples,), for example using ravel().\n",
            "  estimator.fit(X_train, y_train, **fit_params)\n",
            "/usr/local/lib/python3.7/dist-packages/sklearn/model_selection/_validation.py:680: DataConversionWarning: A column-vector y was passed when a 1d array was expected. Please change the shape of y to (n_samples,), for example using ravel().\n",
            "  estimator.fit(X_train, y_train, **fit_params)\n",
            "/usr/local/lib/python3.7/dist-packages/sklearn/model_selection/_validation.py:680: DataConversionWarning: A column-vector y was passed when a 1d array was expected. Please change the shape of y to (n_samples,), for example using ravel().\n",
            "  estimator.fit(X_train, y_train, **fit_params)\n",
            "/usr/local/lib/python3.7/dist-packages/sklearn/model_selection/_validation.py:680: DataConversionWarning: A column-vector y was passed when a 1d array was expected. Please change the shape of y to (n_samples,), for example using ravel().\n",
            "  estimator.fit(X_train, y_train, **fit_params)\n",
            "/usr/local/lib/python3.7/dist-packages/sklearn/model_selection/_validation.py:680: DataConversionWarning: A column-vector y was passed when a 1d array was expected. Please change the shape of y to (n_samples,), for example using ravel().\n",
            "  estimator.fit(X_train, y_train, **fit_params)\n",
            "/usr/local/lib/python3.7/dist-packages/sklearn/model_selection/_validation.py:680: DataConversionWarning: A column-vector y was passed when a 1d array was expected. Please change the shape of y to (n_samples,), for example using ravel().\n",
            "  estimator.fit(X_train, y_train, **fit_params)\n",
            "/usr/local/lib/python3.7/dist-packages/sklearn/model_selection/_validation.py:680: DataConversionWarning: A column-vector y was passed when a 1d array was expected. Please change the shape of y to (n_samples,), for example using ravel().\n",
            "  estimator.fit(X_train, y_train, **fit_params)\n",
            "/usr/local/lib/python3.7/dist-packages/sklearn/model_selection/_validation.py:680: DataConversionWarning: A column-vector y was passed when a 1d array was expected. Please change the shape of y to (n_samples,), for example using ravel().\n",
            "  estimator.fit(X_train, y_train, **fit_params)\n",
            "/usr/local/lib/python3.7/dist-packages/sklearn/model_selection/_validation.py:680: DataConversionWarning: A column-vector y was passed when a 1d array was expected. Please change the shape of y to (n_samples,), for example using ravel().\n",
            "  estimator.fit(X_train, y_train, **fit_params)\n",
            "/usr/local/lib/python3.7/dist-packages/sklearn/model_selection/_validation.py:680: DataConversionWarning: A column-vector y was passed when a 1d array was expected. Please change the shape of y to (n_samples,), for example using ravel().\n",
            "  estimator.fit(X_train, y_train, **fit_params)\n",
            "/usr/local/lib/python3.7/dist-packages/sklearn/model_selection/_validation.py:680: DataConversionWarning: A column-vector y was passed when a 1d array was expected. Please change the shape of y to (n_samples,), for example using ravel().\n",
            "  estimator.fit(X_train, y_train, **fit_params)\n",
            "/usr/local/lib/python3.7/dist-packages/sklearn/model_selection/_validation.py:680: DataConversionWarning: A column-vector y was passed when a 1d array was expected. Please change the shape of y to (n_samples,), for example using ravel().\n",
            "  estimator.fit(X_train, y_train, **fit_params)\n",
            "/usr/local/lib/python3.7/dist-packages/sklearn/model_selection/_validation.py:680: DataConversionWarning: A column-vector y was passed when a 1d array was expected. Please change the shape of y to (n_samples,), for example using ravel().\n",
            "  estimator.fit(X_train, y_train, **fit_params)\n",
            "/usr/local/lib/python3.7/dist-packages/sklearn/model_selection/_validation.py:680: DataConversionWarning: A column-vector y was passed when a 1d array was expected. Please change the shape of y to (n_samples,), for example using ravel().\n",
            "  estimator.fit(X_train, y_train, **fit_params)\n",
            "/usr/local/lib/python3.7/dist-packages/sklearn/model_selection/_validation.py:680: DataConversionWarning: A column-vector y was passed when a 1d array was expected. Please change the shape of y to (n_samples,), for example using ravel().\n",
            "  estimator.fit(X_train, y_train, **fit_params)\n",
            "/usr/local/lib/python3.7/dist-packages/sklearn/model_selection/_validation.py:680: DataConversionWarning: A column-vector y was passed when a 1d array was expected. Please change the shape of y to (n_samples,), for example using ravel().\n",
            "  estimator.fit(X_train, y_train, **fit_params)\n",
            "/usr/local/lib/python3.7/dist-packages/sklearn/model_selection/_validation.py:680: DataConversionWarning: A column-vector y was passed when a 1d array was expected. Please change the shape of y to (n_samples,), for example using ravel().\n",
            "  estimator.fit(X_train, y_train, **fit_params)\n",
            "/usr/local/lib/python3.7/dist-packages/sklearn/model_selection/_validation.py:680: DataConversionWarning: A column-vector y was passed when a 1d array was expected. Please change the shape of y to (n_samples,), for example using ravel().\n",
            "  estimator.fit(X_train, y_train, **fit_params)\n",
            "/usr/local/lib/python3.7/dist-packages/sklearn/model_selection/_validation.py:680: DataConversionWarning: A column-vector y was passed when a 1d array was expected. Please change the shape of y to (n_samples,), for example using ravel().\n",
            "  estimator.fit(X_train, y_train, **fit_params)\n",
            "/usr/local/lib/python3.7/dist-packages/sklearn/model_selection/_validation.py:680: DataConversionWarning: A column-vector y was passed when a 1d array was expected. Please change the shape of y to (n_samples,), for example using ravel().\n",
            "  estimator.fit(X_train, y_train, **fit_params)\n",
            "/usr/local/lib/python3.7/dist-packages/sklearn/model_selection/_validation.py:680: DataConversionWarning: A column-vector y was passed when a 1d array was expected. Please change the shape of y to (n_samples,), for example using ravel().\n",
            "  estimator.fit(X_train, y_train, **fit_params)\n",
            "/usr/local/lib/python3.7/dist-packages/sklearn/model_selection/_validation.py:680: DataConversionWarning: A column-vector y was passed when a 1d array was expected. Please change the shape of y to (n_samples,), for example using ravel().\n",
            "  estimator.fit(X_train, y_train, **fit_params)\n",
            "/usr/local/lib/python3.7/dist-packages/sklearn/model_selection/_validation.py:680: DataConversionWarning: A column-vector y was passed when a 1d array was expected. Please change the shape of y to (n_samples,), for example using ravel().\n",
            "  estimator.fit(X_train, y_train, **fit_params)\n",
            "/usr/local/lib/python3.7/dist-packages/sklearn/model_selection/_validation.py:680: DataConversionWarning: A column-vector y was passed when a 1d array was expected. Please change the shape of y to (n_samples,), for example using ravel().\n",
            "  estimator.fit(X_train, y_train, **fit_params)\n",
            "/usr/local/lib/python3.7/dist-packages/sklearn/model_selection/_validation.py:680: DataConversionWarning: A column-vector y was passed when a 1d array was expected. Please change the shape of y to (n_samples,), for example using ravel().\n",
            "  estimator.fit(X_train, y_train, **fit_params)\n",
            "/usr/local/lib/python3.7/dist-packages/sklearn/model_selection/_validation.py:680: DataConversionWarning: A column-vector y was passed when a 1d array was expected. Please change the shape of y to (n_samples,), for example using ravel().\n",
            "  estimator.fit(X_train, y_train, **fit_params)\n",
            "/usr/local/lib/python3.7/dist-packages/sklearn/model_selection/_validation.py:680: DataConversionWarning: A column-vector y was passed when a 1d array was expected. Please change the shape of y to (n_samples,), for example using ravel().\n",
            "  estimator.fit(X_train, y_train, **fit_params)\n",
            "/usr/local/lib/python3.7/dist-packages/sklearn/model_selection/_validation.py:680: DataConversionWarning: A column-vector y was passed when a 1d array was expected. Please change the shape of y to (n_samples,), for example using ravel().\n",
            "  estimator.fit(X_train, y_train, **fit_params)\n",
            "/usr/local/lib/python3.7/dist-packages/sklearn/model_selection/_validation.py:680: DataConversionWarning: A column-vector y was passed when a 1d array was expected. Please change the shape of y to (n_samples,), for example using ravel().\n",
            "  estimator.fit(X_train, y_train, **fit_params)\n",
            "/usr/local/lib/python3.7/dist-packages/sklearn/model_selection/_validation.py:680: DataConversionWarning: A column-vector y was passed when a 1d array was expected. Please change the shape of y to (n_samples,), for example using ravel().\n",
            "  estimator.fit(X_train, y_train, **fit_params)\n",
            "/usr/local/lib/python3.7/dist-packages/sklearn/model_selection/_validation.py:680: DataConversionWarning: A column-vector y was passed when a 1d array was expected. Please change the shape of y to (n_samples,), for example using ravel().\n",
            "  estimator.fit(X_train, y_train, **fit_params)\n",
            "/usr/local/lib/python3.7/dist-packages/sklearn/model_selection/_validation.py:680: DataConversionWarning: A column-vector y was passed when a 1d array was expected. Please change the shape of y to (n_samples,), for example using ravel().\n",
            "  estimator.fit(X_train, y_train, **fit_params)\n",
            "/usr/local/lib/python3.7/dist-packages/sklearn/model_selection/_validation.py:680: DataConversionWarning: A column-vector y was passed when a 1d array was expected. Please change the shape of y to (n_samples,), for example using ravel().\n",
            "  estimator.fit(X_train, y_train, **fit_params)\n",
            "/usr/local/lib/python3.7/dist-packages/sklearn/model_selection/_validation.py:680: DataConversionWarning: A column-vector y was passed when a 1d array was expected. Please change the shape of y to (n_samples,), for example using ravel().\n",
            "  estimator.fit(X_train, y_train, **fit_params)\n",
            "/usr/local/lib/python3.7/dist-packages/sklearn/model_selection/_validation.py:680: DataConversionWarning: A column-vector y was passed when a 1d array was expected. Please change the shape of y to (n_samples,), for example using ravel().\n",
            "  estimator.fit(X_train, y_train, **fit_params)\n",
            "/usr/local/lib/python3.7/dist-packages/sklearn/model_selection/_validation.py:680: DataConversionWarning: A column-vector y was passed when a 1d array was expected. Please change the shape of y to (n_samples,), for example using ravel().\n",
            "  estimator.fit(X_train, y_train, **fit_params)\n",
            "/usr/local/lib/python3.7/dist-packages/sklearn/model_selection/_validation.py:680: DataConversionWarning: A column-vector y was passed when a 1d array was expected. Please change the shape of y to (n_samples,), for example using ravel().\n",
            "  estimator.fit(X_train, y_train, **fit_params)\n",
            "/usr/local/lib/python3.7/dist-packages/sklearn/model_selection/_validation.py:680: DataConversionWarning: A column-vector y was passed when a 1d array was expected. Please change the shape of y to (n_samples,), for example using ravel().\n",
            "  estimator.fit(X_train, y_train, **fit_params)\n",
            "/usr/local/lib/python3.7/dist-packages/sklearn/model_selection/_validation.py:680: DataConversionWarning: A column-vector y was passed when a 1d array was expected. Please change the shape of y to (n_samples,), for example using ravel().\n",
            "  estimator.fit(X_train, y_train, **fit_params)\n"
          ]
        },
        {
          "data": {
            "image/png": "[encoded data removed]",
            "text/plain": [
              "<Figure size 864x576 with 1 Axes>"
            ]
          },
          "metadata": {},
          "output_type": "display_data"
        }
      ],
      "source": [
        "evaluation_model(loaded_model_rf, Y_test_pred_rf)"
      ]
    },
    {
      "cell_type": "markdown",
      "metadata": {
        "id": "ZYBHJt_LGcO_"
      },
      "source": [
        "# 4. **Regression Logistique**"
      ]
    },
    {
      "cell_type": "code",
      "execution_count": null,
      "metadata": {
        "id": "RgkkowjZGizt"
      },
      "outputs": [],
      "source": [
        "model_rl = LogisticRegression(max_iter=600000)\n",
        "\n",
        "# Temps de Training\n",
        "start_time = time.time()\n",
        "model_rl.fit(X_train, Y_train.values.ravel())\n",
        "end_time = time.time()\n",
        "\n",
        "#print(\"Training time: \",end_time-start_time)"
      ]
    },
    {
      "cell_type": "code",
      "execution_count": null,
      "metadata": {
        "colab": {
          "base_uri": "https://localhost:8080/"
        },
        "id": "Rb3f8f9aPaSb",
        "outputId": "92f2ee57-8cba-49fc-cb29-e6e5c7574076"
      },
      "outputs": [
        {
          "data": {
            "text/plain": [
              "['regres_logist.joblib']"
            ]
          },
          "execution_count": 50,
          "metadata": {},
          "output_type": "execute_result"
        }
      ],
      "source": [
        "# save model\n",
        "fn_rl = \"regres_logist.joblib\"\n",
        "#joblib.dump(model_rl, fn_rl)"
      ]
    },
    {
      "cell_type": "code",
      "execution_count": null,
      "metadata": {
        "id": "GKHIenM0PlON"
      },
      "outputs": [],
      "source": [
        "# load model & curve\n",
        "loaded_model_rl = joblib.load(fn_rl)"
      ]
    },
    {
      "cell_type": "code",
      "execution_count": null,
      "metadata": {
        "id": "V3jCG382G61m"
      },
      "outputs": [],
      "source": [
        "# Temps de Test\n",
        "start_time = time.time()\n",
        "Y_test_pred_rl = loaded_model_rl.predict(X_test)\n",
        "end_time = time.time()\n",
        "\n",
        "#print(\"Testing time: \",end_time-start_time)"
      ]
    },
    {
      "cell_type": "code",
      "execution_count": null,
      "metadata": {
        "colab": {
          "base_uri": "https://localhost:8080/"
        },
        "id": "_s-Az1xaG9b3",
        "outputId": "69c0814b-757e-4bba-df9e-8b98cdfbbbcf"
      },
      "outputs": [
        {
          "name": "stdout",
          "output_type": "stream",
          "text": [
            "Train score is: 0.9934704783496331\n",
            "Test score is: 0.9936169925644036\n"
          ]
        }
      ],
      "source": [
        "# Score de RL\n",
        "rl_train_score = loaded_model_rl.score(X_train, Y_train)\n",
        "rl_test_score = loaded_model_rl.score(X_test,Y_test)\n",
        "\n",
        "print(\"Train score is:\", rl_train_score)\n",
        "print(\"Test score is:\", rl_test_score)"
      ]
    },
    {
      "cell_type": "code",
      "execution_count": null,
      "metadata": {
        "id": "leBCuRvanIvi"
      },
      "outputs": [],
      "source": [
        "# Taux d'erreur avec la Matrice de confusion\n",
        "#construct_conf_matrix(Y_test_pred_rl)"
      ]
    },
    {
      "cell_type": "code",
      "execution_count": null,
      "metadata": {
        "colab": {
          "background_save": true,
          "base_uri": "https://localhost:8080/"
        },
        "id": "T81qbdF8WSqU",
        "outputId": "66c24f00-38d3-4e6e-87ae-035f42d0d43e"
      },
      "outputs": [
        {
          "name": "stdout",
          "output_type": "stream",
          "text": [
            "              precision    recall  f1-score   support\n",
            "\n",
            "         dos       1.00      0.99      1.00    117447\n",
            "      normal       0.97      1.00      0.98     29154\n",
            "       probe       0.98      0.88      0.93      1238\n",
            "         r2l       0.86      0.83      0.84       349\n",
            "         u2r       0.89      0.44      0.59        18\n",
            "\n",
            "    accuracy                           0.99    148206\n",
            "   macro avg       0.94      0.83      0.87    148206\n",
            "weighted avg       0.99      0.99      0.99    148206\n",
            "\n"
          ]
        },
        {
          "name": "stderr",
          "output_type": "stream",
          "text": [
            "/usr/local/lib/python3.7/dist-packages/sklearn/utils/validation.py:993: DataConversionWarning: A column-vector y was passed when a 1d array was expected. Please change the shape of y to (n_samples, ), for example using ravel().\n",
            "  y = column_or_1d(y, warn=True)\n",
            "/usr/local/lib/python3.7/dist-packages/sklearn/utils/validation.py:993: DataConversionWarning: A column-vector y was passed when a 1d array was expected. Please change the shape of y to (n_samples, ), for example using ravel().\n",
            "  y = column_or_1d(y, warn=True)\n",
            "/usr/local/lib/python3.7/dist-packages/sklearn/utils/validation.py:993: DataConversionWarning: A column-vector y was passed when a 1d array was expected. Please change the shape of y to (n_samples, ), for example using ravel().\n",
            "  y = column_or_1d(y, warn=True)\n",
            "/usr/local/lib/python3.7/dist-packages/sklearn/utils/validation.py:993: DataConversionWarning: A column-vector y was passed when a 1d array was expected. Please change the shape of y to (n_samples, ), for example using ravel().\n",
            "  y = column_or_1d(y, warn=True)\n",
            "/usr/local/lib/python3.7/dist-packages/sklearn/utils/validation.py:993: DataConversionWarning: A column-vector y was passed when a 1d array was expected. Please change the shape of y to (n_samples, ), for example using ravel().\n",
            "  y = column_or_1d(y, warn=True)\n",
            "/usr/local/lib/python3.7/dist-packages/sklearn/utils/validation.py:993: DataConversionWarning: A column-vector y was passed when a 1d array was expected. Please change the shape of y to (n_samples, ), for example using ravel().\n",
            "  y = column_or_1d(y, warn=True)\n",
            "/usr/local/lib/python3.7/dist-packages/sklearn/utils/validation.py:993: DataConversionWarning: A column-vector y was passed when a 1d array was expected. Please change the shape of y to (n_samples, ), for example using ravel().\n",
            "  y = column_or_1d(y, warn=True)\n",
            "/usr/local/lib/python3.7/dist-packages/sklearn/utils/validation.py:993: DataConversionWarning: A column-vector y was passed when a 1d array was expected. Please change the shape of y to (n_samples, ), for example using ravel().\n",
            "  y = column_or_1d(y, warn=True)\n",
            "/usr/local/lib/python3.7/dist-packages/sklearn/utils/validation.py:993: DataConversionWarning: A column-vector y was passed when a 1d array was expected. Please change the shape of y to (n_samples, ), for example using ravel().\n",
            "  y = column_or_1d(y, warn=True)\n",
            "/usr/local/lib/python3.7/dist-packages/sklearn/utils/validation.py:993: DataConversionWarning: A column-vector y was passed when a 1d array was expected. Please change the shape of y to (n_samples, ), for example using ravel().\n",
            "  y = column_or_1d(y, warn=True)\n",
            "/usr/local/lib/python3.7/dist-packages/sklearn/utils/validation.py:993: DataConversionWarning: A column-vector y was passed when a 1d array was expected. Please change the shape of y to (n_samples, ), for example using ravel().\n",
            "  y = column_or_1d(y, warn=True)\n",
            "/usr/local/lib/python3.7/dist-packages/sklearn/utils/validation.py:993: DataConversionWarning: A column-vector y was passed when a 1d array was expected. Please change the shape of y to (n_samples, ), for example using ravel().\n",
            "  y = column_or_1d(y, warn=True)\n",
            "/usr/local/lib/python3.7/dist-packages/sklearn/utils/validation.py:993: DataConversionWarning: A column-vector y was passed when a 1d array was expected. Please change the shape of y to (n_samples, ), for example using ravel().\n",
            "  y = column_or_1d(y, warn=True)\n",
            "/usr/local/lib/python3.7/dist-packages/sklearn/utils/validation.py:993: DataConversionWarning: A column-vector y was passed when a 1d array was expected. Please change the shape of y to (n_samples, ), for example using ravel().\n",
            "  y = column_or_1d(y, warn=True)\n",
            "/usr/local/lib/python3.7/dist-packages/sklearn/utils/validation.py:993: DataConversionWarning: A column-vector y was passed when a 1d array was expected. Please change the shape of y to (n_samples, ), for example using ravel().\n",
            "  y = column_or_1d(y, warn=True)\n",
            "/usr/local/lib/python3.7/dist-packages/sklearn/utils/validation.py:993: DataConversionWarning: A column-vector y was passed when a 1d array was expected. Please change the shape of y to (n_samples, ), for example using ravel().\n",
            "  y = column_or_1d(y, warn=True)\n",
            "/usr/local/lib/python3.7/dist-packages/sklearn/utils/validation.py:993: DataConversionWarning: A column-vector y was passed when a 1d array was expected. Please change the shape of y to (n_samples, ), for example using ravel().\n",
            "  y = column_or_1d(y, warn=True)\n",
            "/usr/local/lib/python3.7/dist-packages/sklearn/utils/validation.py:993: DataConversionWarning: A column-vector y was passed when a 1d array was expected. Please change the shape of y to (n_samples, ), for example using ravel().\n",
            "  y = column_or_1d(y, warn=True)\n",
            "/usr/local/lib/python3.7/dist-packages/sklearn/utils/validation.py:993: DataConversionWarning: A column-vector y was passed when a 1d array was expected. Please change the shape of y to (n_samples, ), for example using ravel().\n",
            "  y = column_or_1d(y, warn=True)\n",
            "/usr/local/lib/python3.7/dist-packages/sklearn/utils/validation.py:993: DataConversionWarning: A column-vector y was passed when a 1d array was expected. Please change the shape of y to (n_samples, ), for example using ravel().\n",
            "  y = column_or_1d(y, warn=True)\n",
            "/usr/local/lib/python3.7/dist-packages/sklearn/utils/validation.py:993: DataConversionWarning: A column-vector y was passed when a 1d array was expected. Please change the shape of y to (n_samples, ), for example using ravel().\n",
            "  y = column_or_1d(y, warn=True)\n",
            "/usr/local/lib/python3.7/dist-packages/sklearn/utils/validation.py:993: DataConversionWarning: A column-vector y was passed when a 1d array was expected. Please change the shape of y to (n_samples, ), for example using ravel().\n",
            "  y = column_or_1d(y, warn=True)\n",
            "/usr/local/lib/python3.7/dist-packages/sklearn/utils/validation.py:993: DataConversionWarning: A column-vector y was passed when a 1d array was expected. Please change the shape of y to (n_samples, ), for example using ravel().\n",
            "  y = column_or_1d(y, warn=True)\n",
            "/usr/local/lib/python3.7/dist-packages/sklearn/utils/validation.py:993: DataConversionWarning: A column-vector y was passed when a 1d array was expected. Please change the shape of y to (n_samples, ), for example using ravel().\n",
            "  y = column_or_1d(y, warn=True)\n",
            "/usr/local/lib/python3.7/dist-packages/sklearn/utils/validation.py:993: DataConversionWarning: A column-vector y was passed when a 1d array was expected. Please change the shape of y to (n_samples, ), for example using ravel().\n",
            "  y = column_or_1d(y, warn=True)\n",
            "/usr/local/lib/python3.7/dist-packages/sklearn/utils/validation.py:993: DataConversionWarning: A column-vector y was passed when a 1d array was expected. Please change the shape of y to (n_samples, ), for example using ravel().\n",
            "  y = column_or_1d(y, warn=True)\n",
            "/usr/local/lib/python3.7/dist-packages/sklearn/utils/validation.py:993: DataConversionWarning: A column-vector y was passed when a 1d array was expected. Please change the shape of y to (n_samples, ), for example using ravel().\n",
            "  y = column_or_1d(y, warn=True)\n",
            "/usr/local/lib/python3.7/dist-packages/sklearn/utils/validation.py:993: DataConversionWarning: A column-vector y was passed when a 1d array was expected. Please change the shape of y to (n_samples, ), for example using ravel().\n",
            "  y = column_or_1d(y, warn=True)\n",
            "/usr/local/lib/python3.7/dist-packages/sklearn/utils/validation.py:993: DataConversionWarning: A column-vector y was passed when a 1d array was expected. Please change the shape of y to (n_samples, ), for example using ravel().\n",
            "  y = column_or_1d(y, warn=True)\n",
            "/usr/local/lib/python3.7/dist-packages/sklearn/utils/validation.py:993: DataConversionWarning: A column-vector y was passed when a 1d array was expected. Please change the shape of y to (n_samples, ), for example using ravel().\n",
            "  y = column_or_1d(y, warn=True)\n",
            "/usr/local/lib/python3.7/dist-packages/sklearn/utils/validation.py:993: DataConversionWarning: A column-vector y was passed when a 1d array was expected. Please change the shape of y to (n_samples, ), for example using ravel().\n",
            "  y = column_or_1d(y, warn=True)\n",
            "/usr/local/lib/python3.7/dist-packages/sklearn/utils/validation.py:993: DataConversionWarning: A column-vector y was passed when a 1d array was expected. Please change the shape of y to (n_samples, ), for example using ravel().\n",
            "  y = column_or_1d(y, warn=True)\n",
            "/usr/local/lib/python3.7/dist-packages/sklearn/utils/validation.py:993: DataConversionWarning: A column-vector y was passed when a 1d array was expected. Please change the shape of y to (n_samples, ), for example using ravel().\n",
            "  y = column_or_1d(y, warn=True)\n",
            "/usr/local/lib/python3.7/dist-packages/sklearn/utils/validation.py:993: DataConversionWarning: A column-vector y was passed when a 1d array was expected. Please change the shape of y to (n_samples, ), for example using ravel().\n",
            "  y = column_or_1d(y, warn=True)\n",
            "/usr/local/lib/python3.7/dist-packages/sklearn/utils/validation.py:993: DataConversionWarning: A column-vector y was passed when a 1d array was expected. Please change the shape of y to (n_samples, ), for example using ravel().\n",
            "  y = column_or_1d(y, warn=True)\n",
            "/usr/local/lib/python3.7/dist-packages/sklearn/utils/validation.py:993: DataConversionWarning: A column-vector y was passed when a 1d array was expected. Please change the shape of y to (n_samples, ), for example using ravel().\n",
            "  y = column_or_1d(y, warn=True)\n",
            "/usr/local/lib/python3.7/dist-packages/sklearn/utils/validation.py:993: DataConversionWarning: A column-vector y was passed when a 1d array was expected. Please change the shape of y to (n_samples, ), for example using ravel().\n",
            "  y = column_or_1d(y, warn=True)\n",
            "/usr/local/lib/python3.7/dist-packages/sklearn/utils/validation.py:993: DataConversionWarning: A column-vector y was passed when a 1d array was expected. Please change the shape of y to (n_samples, ), for example using ravel().\n",
            "  y = column_or_1d(y, warn=True)\n",
            "/usr/local/lib/python3.7/dist-packages/sklearn/utils/validation.py:993: DataConversionWarning: A column-vector y was passed when a 1d array was expected. Please change the shape of y to (n_samples, ), for example using ravel().\n",
            "  y = column_or_1d(y, warn=True)\n",
            "/usr/local/lib/python3.7/dist-packages/sklearn/utils/validation.py:993: DataConversionWarning: A column-vector y was passed when a 1d array was expected. Please change the shape of y to (n_samples, ), for example using ravel().\n",
            "  y = column_or_1d(y, warn=True)\n"
          ]
        },
        {
          "data": {
            "image/png": "[encoded data removed]",
            "text/plain": [
              "<Figure size 864x576 with 1 Axes>"
            ]
          },
          "metadata": {},
          "output_type": "display_data"
        }
      ],
      "source": [
        "evaluation_model(loaded_model_rl, Y_test_pred_rl)"
      ]
    },
    {
      "cell_type": "markdown",
      "metadata": {
        "id": "sOJFK4zUcbXw"
      },
      "source": [
        "# 5. **K-Nearest Neighbor**"
      ]
    },
    {
      "cell_type": "code",
      "execution_count": null,
      "metadata": {
        "id": "PjYbu13bco_T"
      },
      "outputs": [],
      "source": [
        "model_knn = KNeighborsClassifier(n_neighbors=20).fit(X_train, Y_train.values.ravel())\n",
        "\n",
        "# Determiner le temps d'entrainement\n",
        "start_time = time.time()\n",
        "model_knn.fit(X_train, Y_train.values.ravel())\n",
        "end_time = time.time()\n",
        "\n",
        "#print(\"Training time: \",end_time-start_time)"
      ]
    },
    {
      "cell_type": "code",
      "execution_count": null,
      "metadata": {
        "colab": {
          "base_uri": "https://localhost:8080/"
        },
        "id": "IfekKwDMQgJh",
        "outputId": "f40ab1ac-94db-4337-a7cd-bc3f6641a0a6"
      },
      "outputs": [
        {
          "data": {
            "text/plain": [
              "['knn.joblib']"
            ]
          },
          "execution_count": 55,
          "metadata": {},
          "output_type": "execute_result"
        }
      ],
      "source": [
        "# save model\n",
        "fn_knn = \"knn.joblib\"\n",
        "#joblib.dump(model_knn, fn_knn)"
      ]
    },
    {
      "cell_type": "code",
      "execution_count": null,
      "metadata": {
        "id": "YmCo6EoRQs7t"
      },
      "outputs": [],
      "source": [
        "# load model & curve\n",
        "loaded_model_knn = joblib.load(fn_knn)"
      ]
    },
    {
      "cell_type": "code",
      "execution_count": null,
      "metadata": {
        "id": "5TCqq0o-dX3a"
      },
      "outputs": [],
      "source": [
        "# Temps de Test\n",
        "start_time = time.time()\n",
        "Y_test_pred_knn = loaded_model_knn.predict(X_test)\n",
        "end_time = time.time()\n",
        "\n",
        "#print(\"Testing time: \",end_time-start_time)"
      ]
    },
    {
      "cell_type": "code",
      "execution_count": null,
      "metadata": {
        "colab": {
          "base_uri": "https://localhost:8080/"
        },
        "id": "1RTjM0Kg3tI7",
        "outputId": "2440eaee-1938-4e74-c864-fc200a27e19f"
      },
      "outputs": [
        {
          "name": "stdout",
          "output_type": "stream",
          "text": [
            "Train score is: 0.9987623404489119\n",
            "Test score is: 0.9986302848737568\n"
          ]
        }
      ],
      "source": [
        "# Score de KNN\n",
        "knn_train_score = loaded_model_knn.score(X_train, Y_train)\n",
        "knn_test_score = loaded_model_knn.score(X_test,Y_test)\n",
        "\n",
        "print(\"Train score is:\", knn_train_score)\n",
        "print(\"Test score is:\", knn_test_score)"
      ]
    },
    {
      "cell_type": "code",
      "execution_count": null,
      "metadata": {
        "colab": {
          "background_save": true
        },
        "id": "3kBOQoeOnMdn"
      },
      "outputs": [],
      "source": [
        "# Taux d'erreur avec la Matrice de confusion\n",
        "#construct_conf_matrix(Y_test_pred_knn)"
      ]
    },
    {
      "cell_type": "code",
      "execution_count": null,
      "metadata": {
        "id": "OdzS_IA3WY-7"
      },
      "outputs": [],
      "source": [
        "evaluation_model(loaded_model_knn, Y_test_pred_knn)"
      ]
    },
    {
      "cell_type": "markdown",
      "metadata": {
        "id": "we9ZI7ZWelIK"
      },
      "source": [
        "# 6. **Application SVM**\n",
        "\n",
        "(1) With First parameter"
      ]
    },
    {
      "cell_type": "code",
      "execution_count": null,
      "metadata": {
        "id": "QF-F1V2Aetrz"
      },
      "outputs": [],
      "source": [
        "model_svm = SVC(gamma = 'scale')\n",
        "\n",
        "# Determiner le temps d'entrainement\n",
        "start_time = time.time()\n",
        "model_svm.fit(X_train, Y_train.values.ravel())\n",
        "end_time = time.time()\n",
        "\n",
        "#print(\"Training time: \",end_time-start_time)"
      ]
    },
    {
      "cell_type": "code",
      "execution_count": null,
      "metadata": {
        "colab": {
          "base_uri": "https://localhost:8080/"
        },
        "id": "2L7neJiJRQ2X",
        "outputId": "c811834b-1267-4d0b-844c-ade591b93b14"
      },
      "outputs": [
        {
          "data": {
            "text/plain": [
              "['svm.joblib']"
            ]
          },
          "execution_count": 60,
          "metadata": {},
          "output_type": "execute_result"
        }
      ],
      "source": [
        "# save model\n",
        "fn_svm = \"svm.joblib\"\n",
        "#joblib.dump(model_svm, fn_svm)"
      ]
    },
    {
      "cell_type": "code",
      "execution_count": null,
      "metadata": {
        "id": "B7yUtk87Rb1O"
      },
      "outputs": [],
      "source": [
        "# load model & curve\n",
        "loaded_model_svm = joblib.load(fn_svm)"
      ]
    },
    {
      "cell_type": "code",
      "execution_count": null,
      "metadata": {
        "id": "dUH1vdO4frLV"
      },
      "outputs": [],
      "source": [
        "# Temps de Test\n",
        "start_time = time.time()\n",
        "Y_test_pred_svm = loaded_model_svm.predict(X_test)\n",
        "end_time = time.time()\n",
        "\n",
        "#print(\"Testing time: \",end_time-start_time)"
      ]
    },
    {
      "cell_type": "code",
      "execution_count": null,
      "metadata": {
        "colab": {
          "background_save": true
        },
        "id": "cmEL5hmmiy-N",
        "outputId": "381af704-8435-4948-917f-b4cf6c18ad40"
      },
      "outputs": [
        {
          "name": "stdout",
          "output_type": "stream",
          "text": [
            "Train score is: 0.9987334231696808\n",
            "Test score is: 0.9987719795419888\n"
          ]
        }
      ],
      "source": [
        "# Affichage des Scores\n",
        "svm_train_score = loaded_model_svm.score(X_train, Y_train)\n",
        "svm_test_score = loaded_model_svm.score(X_test,Y_test)\n",
        "\n",
        "print(\"Train score is:\", svm_train_score)\n",
        "print(\"Test score is:\", svm_test_score)"
      ]
    },
    {
      "cell_type": "code",
      "execution_count": null,
      "metadata": {
        "id": "_veHhnqpnPcC"
      },
      "outputs": [],
      "source": [
        "# Taux d'erreur avec la Matrice de confusion\n",
        "#construct_conf_matrix(Y_test_pred_svm)"
      ]
    },
    {
      "cell_type": "code",
      "execution_count": null,
      "metadata": {
        "colab": {
          "base_uri": "https://localhost:8080/",
          "height": 695
        },
        "id": "DuirGaB6W2dF",
        "outputId": "1cdb1981-568e-47b9-f6fc-daad205f6528"
      },
      "outputs": [
        {
          "name": "stdout",
          "output_type": "stream",
          "text": [
            "              precision    recall  f1-score   support\n",
            "\n",
            "         dos       1.00      1.00      1.00    117447\n",
            "      normal       1.00      1.00      1.00     29154\n",
            "       probe       0.99      0.96      0.98      1238\n",
            "         r2l       0.89      0.87      0.88       349\n",
            "         u2r       0.77      0.56      0.65        18\n",
            "\n",
            "    accuracy                           1.00    148206\n",
            "   macro avg       0.93      0.88      0.90    148206\n",
            "weighted avg       1.00      1.00      1.00    148206\n",
            "\n"
          ]
        },
        {
          "data": {
            "image/png": "[encoded data removed]",
            "text/plain": [
              "<Figure size 864x576 with 1 Axes>"
            ]
          },
          "metadata": {},
          "output_type": "display_data"
        }
      ],
      "source": [
        "evaluation_model(loaded_model_svm, Y_test_pred_svm)"
      ]
    },
    {
      "cell_type": "markdown",
      "metadata": {
        "id": "mipPII9Mz0E1"
      },
      "source": [
        "# **Deep Learning, Supervised Methods**"
      ]
    },
    {
      "cell_type": "markdown",
      "metadata": {
        "id": "Wmjn-4VOz3Dz"
      },
      "source": [
        "# 1. **Artificial Neural Network**"
      ]
    },
    {
      "cell_type": "code",
      "execution_count": null,
      "metadata": {
        "colab": {
          "background_save": true
        },
        "id": "0QnAi_gh0Okz"
      },
      "outputs": [],
      "source": [
        "def fun():\n",
        "    model = Sequential()\n",
        "    \n",
        "    #here 30 is output dimension\n",
        "    model.add(Dense(30,input_dim =30,activation = 'relu',kernel_initializer='random_uniform'))\n",
        "    \n",
        "    #in next layer we do not specify the input_dim as the model is sequential so output of previous layer is input to next layer\n",
        "    model.add(Dense(1,activation='sigmoid',kernel_initializer='random_uniform'))\n",
        "    \n",
        "    #5 classes-normal,dos,probe,r2l,u2r\n",
        "    model.add(Dense(5,activation='softmax'))\n",
        "    \n",
        "    #loss is categorical_crossentropy which specifies that we have multiple classes\n",
        "    \n",
        "    model.compile(loss ='categorical_crossentropy',optimizer = 'adam',metrics = ['accuracy'])\n",
        "    \n",
        "    return model"
      ]
    },
    {
      "cell_type": "code",
      "execution_count": null,
      "metadata": {
        "id": "RHymVLcV0Ok3"
      },
      "outputs": [],
      "source": [
        "#Since,the dataset is very big and we cannot fit complete data at once so we use batch size.\n",
        "#This divides our data into batches each of size equal to batch_size.\n",
        "#Now only this number of samples will be loaded into memory and processed. \n",
        "#Once we are done with one batch it is flushed from memory and the next batch will be processed.\n",
        "\n",
        "model_ann = KerasClassifier(build_fn=fun,epochs=100,batch_size=64)\n",
        "\n",
        "# Temps de Training\n",
        "start = time.time()\n",
        "model_ann.fit(X_train, Y_train.values.ravel())\n",
        "end = time.time()\n",
        "\n",
        "#print(\"Training time :\", (end-start))"
      ]
    },
    {
      "cell_type": "code",
      "execution_count": null,
      "metadata": {
        "colab": {
          "base_uri": "https://localhost:8080/"
        },
        "id": "QIsXCnXPSoZm",
        "outputId": "07297414-df92-48bb-af5a-cbff0dbd279d"
      },
      "outputs": [
        {
          "data": {
            "text/plain": [
              "['ann.joblib']"
            ]
          },
          "execution_count": 67,
          "metadata": {},
          "output_type": "execute_result"
        }
      ],
      "source": [
        "# save model\n",
        "fn_ann = \"ann.joblib\"\n",
        "#joblib.dump(model_ann, fn_ann)"
      ]
    },
    {
      "cell_type": "code",
      "execution_count": null,
      "metadata": {
        "id": "JR_PAXjdS2cu"
      },
      "outputs": [],
      "source": [
        "# load model & curve\n",
        "loaded_model_ann = joblib.load(fn_ann)"
      ]
    },
    {
      "cell_type": "code",
      "execution_count": null,
      "metadata": {
        "colab": {
          "base_uri": "https://localhost:8080/"
        },
        "id": "VVfDyXUl0Znd",
        "outputId": "452f7730-9ef2-40d7-efc0-01a8e1be6528"
      },
      "outputs": [
        {
          "name": "stdout",
          "output_type": "stream",
          "text": [
            "4632/4632 [==============================] - 6s 1ms/step\n"
          ]
        }
      ],
      "source": [
        "# Temps de Test\n",
        "start_time = time.time()\n",
        "Y_test_pred_ann = loaded_model_ann.predict(X_test)\n",
        "end_time = time.time()\n",
        "\n",
        "#print(\"Testing time: \",end_time-start_time)"
      ]
    },
    {
      "cell_type": "code",
      "execution_count": null,
      "metadata": {
        "colab": {
          "base_uri": "https://localhost:8080/"
        },
        "id": "gjGHCXdT0Znj",
        "outputId": "365ac8b4-fe29-4c21-c4f7-12bc56db45ee"
      },
      "outputs": [
        {
          "name": "stdout",
          "output_type": "stream",
          "text": [
            "10807/10807 [==============================] - 15s 1ms/step\n"
          ]
        }
      ],
      "source": [
        "# Score de ANN\n",
        "start_time = time.time()\n",
        "Y_train_pred_ann = loaded_model_ann.predict(X_train)\n",
        "end_time = time.time()"
      ]
    },
    {
      "cell_type": "code",
      "execution_count": null,
      "metadata": {
        "id": "mLHFUDKxnZLA"
      },
      "outputs": [],
      "source": [
        "# Taux d'erreur avec la Matrice de confusion\n",
        "#construct_conf_matrix(Y_test_pred_ann)"
      ]
    },
    {
      "cell_type": "code",
      "execution_count": null,
      "metadata": {
        "colab": {
          "base_uri": "https://localhost:8080/"
        },
        "id": "LuQYZH1S4H1C",
        "outputId": "6561b766-efe8-49d0-be6a-e8326b9533bb"
      },
      "outputs": [
        {
          "name": "stdout",
          "output_type": "stream",
          "text": [
            "Train score is: 0.9925538005980094\n",
            "Test score is: 0.9924564457579316\n"
          ]
        }
      ],
      "source": [
        "# Score de ANN Final\n",
        "ann_train_score = accuracy_score(Y_train, Y_train_pred_ann)\n",
        "ann_test_score = accuracy_score(Y_test,Y_test_pred_ann)\n",
        "\n",
        "print(\"Train score is:\", ann_train_score)\n",
        "print(\"Test score is:\", ann_test_score)"
      ]
    },
    {
      "cell_type": "code",
      "execution_count": null,
      "metadata": {
        "id": "IyDKyHtTS3zL"
      },
      "outputs": [],
      "source": [
        "evaluation_model(loaded_model_ann, Y_test_pred_ann)"
      ]
    },
    {
      "cell_type": "code",
      "execution_count": null,
      "metadata": {
        "id": "dKlo0nErM4y-"
      },
      "outputs": [],
      "source": [
        "courbe_de_perte(loaded_model_ann)"
      ]
    },
    {
      "cell_type": "code",
      "execution_count": null,
      "metadata": {
        "id": "V078rJ6fZgXo"
      },
      "outputs": [],
      "source": [
        "enc = LabelEncoder()\n",
        "y = enc.fit_transform(dbTest['Attack_Type'])\n",
        "x = np.arange(y.shape[0])\n",
        "\n",
        "class_labels = pd.DataFrame(data=enc.classes_,columns=['class'])\n",
        "class_labels['label'] = np.unique(y)\n",
        "display(class_labels)"
      ]
    },
    {
      "cell_type": "markdown",
      "metadata": {
        "id": "frx2HQ0ZLBwx"
      },
      "source": [
        "# **Comparaison des differentes Precisions des differents Algos**"
      ]
    },
    {
      "cell_type": "code",
      "execution_count": null,
      "metadata": {
        "id": "8hHrEsfXjG8o"
      },
      "outputs": [],
      "source": [
        "# Build Table\n",
        "  \n",
        "fig = go.Figure(data=[go.Table(header=dict(values=['NB','DT','RF','RL','KNN', 'SVM','ANN']),\n",
        "                 cells=dict(values=[[nb_train_score, dt_train_score, rf_train_score, rl_train_score, knn_train_score,svm_train_score, ann_train_score], \n",
        "                                    [nb_test_score, dt_test_score, rf_test_score, rl_test_score, knn_test_score, svm_test_score, ann_test_score]]))\n",
        "                  ])\n",
        "# display table\n",
        "fig.update_layout(width=9900, height=500)\n",
        "fig.show()"
      ]
    },
    {
      "cell_type": "code",
      "execution_count": null,
      "metadata": {
        "id": "r-5FUUXuLD3E"
      },
      "outputs": [],
      "source": [
        "# Precision lors du Training\n",
        "names = ['NB','DT','RF','RL','KNN', 'SVM','ANN']\n",
        "values = [nb_train_score,dt_train_score,rf_train_score,rl_train_score,knn_train_score,svm_train_score,ann_train_score]\n",
        "fig_train_compar = plt.figure(figsize=(15,3),num=10)\n",
        "plt.subplot(131)\n",
        "plt.ylim(80,102)\n",
        "plt.bar(names,values)\n",
        "fig_train_compar.savefig('training_accuracy_figure.png',bbox_inches='tight')"
      ]
    },
    {
      "cell_type": "code",
      "execution_count": null,
      "metadata": {
        "id": "4ZICnyNJLWGd"
      },
      "outputs": [],
      "source": [
        "# Precision lors du Test\n",
        "names = ['NB','DT','RF','RL','KNN', 'SVM','ANN']\n",
        "values = [nb_test_score,dt_test_score,rf_test_score,rl_test_score,knn_test_score,svm_test_score,ann_test_score]\n",
        "fig_test_compar = plt.figure(figsize=(15,3),num=10)\n",
        "plt.subplot(131)\n",
        "plt.ylim(80,102)\n",
        "plt.bar(names,values)\n",
        "fig_test_compar.savefig('test_accuracy_figure.png',bbox_inches='tight')"
      ]
    }
  ],
  "metadata": {
    "accelerator": "GPU",
    "colab": {
      "collapsed_sections": [
        "LjxBVpIXaoyI",
        "mipPII9Mz0E1"
      ],
      "provenance": []
    },
    "gpuClass": "standard",
    "kernelspec": {
      "display_name": "Python 3",
      "name": "python3"
    },
    "language_info": {
      "name": "python"
    }
  },
  "nbformat": 4,
  "nbformat_minor": 0
}
